{
 "cells": [
  {
   "cell_type": "code",
   "execution_count": 2,
   "id": "e43bc638",
   "metadata": {},
   "outputs": [],
   "source": [
    "#Imports\n",
    "import pandas as pd\n",
    "import numpy as np\n",
    "from sklearn.model_selection import train_test_split\n",
    "from sklearn.linear_model import LinearRegression, Lasso\n",
    "from sklearn.ensemble import RandomForestRegressor\n",
    "from sklearn.svm import SVR\n",
    "from xgboost import XGBRegressor\n",
    "from sklearn.metrics import mean_absolute_error, mean_squared_error, r2_score\n",
    "import matplotlib.pyplot as plt\n",
    "import seaborn as sns"
   ]
  },
  {
   "cell_type": "code",
   "execution_count": 3,
   "id": "12204500",
   "metadata": {},
   "outputs": [],
   "source": [
    "df = pd.read_csv('rainfall.csv')\n",
    "\n",
    "#Parse date column\n",
    "df[\"datetime\"] = pd.to_datetime(df[\"datetime\"], format=\"%d/%m/%y\", errors='coerce')\n",
    "df = df.dropna(subset=[\"datetime\", \"solarradiation\"]).reset_index(drop=True)\n",
    "\n",
    "#Create lag features\n",
    "n_lags = 3\n",
    "for lag in range(1, n_lags + 1):\n",
    "    df[f'solarradiation_lag_{lag}'] = df['solarradiation'].shift(lag)\n",
    "\n",
    "df = df.dropna().reset_index(drop=True)"
   ]
  },
  {
   "cell_type": "code",
   "execution_count": 4,
   "id": "b3b5dea9",
   "metadata": {},
   "outputs": [
    {
     "name": "stdout",
     "output_type": "stream",
     "text": [
      "X_train shape: (564, 3)\n",
      "X_test shape: (141, 3)\n",
      "y_train shape: (564,)\n",
      "y_test shape: (141,)\n"
     ]
    }
   ],
   "source": [
    "features = [f'solarradiation_lag_{i}' for i in range(1, n_lags + 1)]\n",
    "X = df[features]\n",
    "y = df['solarradiation']\n",
    "\n",
    "X_train, X_test, y_train, y_test = train_test_split(X, y, test_size=0.2, random_state=42)\n",
    "print(\"X_train shape:\", X_train.shape)\n",
    "print(\"X_test shape:\", X_test.shape)\n",
    "print(\"y_train shape:\", y_train.shape)\n",
    "print(\"y_test shape:\", y_test.shape)  "
   ]
  }
 ],
 "metadata": {
  "kernelspec": {
   "display_name": "Python 3",
   "language": "python",
   "name": "python3"
  },
  "language_info": {
   "codemirror_mode": {
    "name": "ipython",
    "version": 3
   },
   "file_extension": ".py",
   "mimetype": "text/x-python",
   "name": "python",
   "nbconvert_exporter": "python",
   "pygments_lexer": "ipython3",
   "version": "3.12.1"
  }
 },
 "nbformat": 4,
 "nbformat_minor": 5
}
